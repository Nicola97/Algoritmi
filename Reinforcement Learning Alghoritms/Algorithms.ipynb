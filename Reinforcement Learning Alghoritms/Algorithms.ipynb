{
 "cells": [
  {
   "cell_type": "markdown",
   "metadata": {},
   "source": [
    "- Q-Learning\n",
    "- Deep Q-Network (DQN)\n",
    "- SARSA (State-Action-Reward-State-Action)\n",
    "- Policy Gradient (PG)\n",
    "- REINFORCE\n",
    "- Actor-Critic\n",
    "- Proximal Policy Optimization (PPO)\n",
    "- Trust Region Policy Optimization (TRPO)\n",
    "- Soft Actor-Critic (SAC)\n",
    "- A3C (Asynchronous Advantage Actor-Critic)\n",
    "- Double Q-Learning\n",
    "- Dueling DQN"
   ]
  },
  {
   "cell_type": "markdown",
   "metadata": {},
   "source": [
    "### Q - Learning"
   ]
  },
  {
   "cell_type": "code",
   "execution_count": null,
   "metadata": {},
   "outputs": [],
   "source": []
  },
  {
   "cell_type": "markdown",
   "metadata": {},
   "source": [
    "### Vanilla Policy Gradient (VPG)\n"
   ]
  },
  {
   "cell_type": "code",
   "execution_count": null,
   "metadata": {},
   "outputs": [],
   "source": []
  }
 ],
 "metadata": {
  "language_info": {
   "name": "python"
  }
 },
 "nbformat": 4,
 "nbformat_minor": 2
}
