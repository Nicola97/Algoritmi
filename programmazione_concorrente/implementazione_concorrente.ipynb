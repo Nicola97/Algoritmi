{
 "cells": [
  {
   "cell_type": "markdown",
   "metadata": {},
   "source": [
    "#### References \n",
    "\n",
    "- https://code.tutsplus.com/it/introduction-to-parallel-and-concurrent-programming-in-python--cms-28612a \n",
    "\n",
    "- https://www.andreaminini.com/python/il-modulo-threading-di-python"
   ]
  },
  {
   "cell_type": "code",
   "execution_count": 7,
   "metadata": {},
   "outputs": [],
   "source": [
    "WEBSITE_LIST = [\n",
    "    'https://envato.com',\n",
    "    'http://amazon.co.uk',\n",
    "    'http://amazon.com',\n",
    "    'http://facebook.com',\n",
    "    'http://google.com',\n",
    "    'http://google.fr',\n",
    "    'http://google.es',\n",
    "    'http://google.co.uk',\n",
    "    'http://internet.org',\n",
    "    'http://gmail.com',\n",
    "    'http://stackoverflow.com',\n",
    "    'http://github.com',\n",
    "    'http://heroku.com',\n",
    "    'http://really-cool-available-domain.com',\n",
    "    'http://djangoproject.com',\n",
    "    'http://rubyonrails.org',\n",
    "    'http://basecamp.com',\n",
    "    'http://trello.com',\n",
    "    'http://yiiframework.com',\n",
    "    'http://shopify.com',\n",
    "    'http://another-really-interesting-domain.co',\n",
    "    'http://airbnb.com',\n",
    "    'http://instagram.com',\n",
    "    'http://snapchat.com',\n",
    "    'http://youtube.com',\n",
    "    'http://baidu.com',\n",
    "    'http://yahoo.com',\n",
    "    'http://live.com',\n",
    "    'http://linkedin.com',\n",
    "    'http://yandex.ru',\n",
    "    'http://netflix.com',\n",
    "    'http://wordpress.com',\n",
    "    'http://bing.com',\n",
    "]"
   ]
  },
  {
   "cell_type": "code",
   "execution_count": 8,
   "metadata": {},
   "outputs": [],
   "source": [
    "import time\n",
    "import logging\n",
    "import requests\n",
    "\n",
    "class WebsiteDownException(Exception):\n",
    "    pass\n",
    "\n",
    "def ping_website(adress, timeout=20):\n",
    "    try:\n",
    "        response= requests.head(adress, timeout=timeout)\n",
    "        if response.status_code >= 400:\n",
    "            logging.warning(\"Website %s returned status_code=%s\" % (address, response.status_code)) \n",
    "            raise WebsiteDownException()\n",
    "    except requests.exceptions.RequestException:\n",
    "        logging.warning(\"Timeout expired for website %s\" % address)\n",
    "        raise WebsiteDownException()\n",
    "\n",
    "\n",
    "def notify_owner(address):\n",
    "    \"\"\" \n",
    "Send the owner of the address a notification that their website is down \n",
    "\n",
    "For now, we're just going to sleep for 0.5 seconds but this is where \n",
    "you would send an email, push notification or text-message \n",
    "\"\"\"\n",
    "    logging.info(\"Notifying the owner of %s website\" % address)\n",
    "    time.sleep(0.5)\n",
    "    \n",
    "def check_website(address):\n",
    "    \"\"\" \n",
    "Utility function: check if a website is down, if so, notify the user \n",
    "\"\"\"\n",
    "    try:\n",
    "        ping_website(address)\n",
    "    except WebsiteDownException:\n",
    "        notify_owner(address)"
   ]
  },
  {
   "cell_type": "code",
   "execution_count": 9,
   "metadata": {},
   "outputs": [
    {
     "name": "stderr",
     "output_type": "stream",
     "text": [
      "WARNING:root:Timeout expired for website http://really-cool-available-domain.com\n",
      "WARNING:root:Timeout expired for website http://another-really-interesting-domain.co\n"
     ]
    },
    {
     "name": "stdout",
     "output_type": "stream",
     "text": [
      "Time for SerialSquirrel: 5.652581691741943secs\n"
     ]
    }
   ],
   "source": [
    "# serial_squirrel.py \n",
    "import time\n",
    "start_time = time.time()\n",
    "for address in WEBSITE_LIST:\n",
    "    check_website(address)\n",
    "        \n",
    "end_time = time.time()        \n",
    "print(\"Time for SerialSquirrel: %ssecs\" % (end_time - start_time))\n",
    "# WARNING:root:Timeout expired for website http://really-cool-available-domain.com \n",
    "# WARNING:root:Timeout expired for website http://another-really-interesting-domain.co \n",
    "# WARNING:root:Website http://bing.com returned status_code=405 \n",
    "# Time for SerialSquirrel: 15.881232261657715secs"
   ]
  },
  {
   "cell_type": "code",
   "execution_count": 15,
   "metadata": {},
   "outputs": [
    {
     "name": "stderr",
     "output_type": "stream",
     "text": [
      "WARNING:root:Timeout expired for website http://bing.com\n",
      "WARNING:root:Timeout expired for website http://bing.com\n"
     ]
    },
    {
     "name": "stdout",
     "output_type": "stream",
     "text": [
      "Time for ThreadedSquirrel: 1.2448923587799072secs\n"
     ]
    }
   ],
   "source": [
    "# threaded_squirrel.py \n",
    "import time\n",
    "from queue import Queue\n",
    "from threading import Thread\n",
    "NUM_WORKERS = 4\n",
    "task_queue = Queue()\n",
    "def worker():\n",
    "    # Constantly check the queue for addresses \n",
    "    while True:\n",
    "        address = task_queue.get()\n",
    "        check_website(address)\n",
    "        \n",
    "        # Mark the processed task as done \n",
    "        task_queue.task_done()\n",
    "start_time = time.time()\n",
    "        \n",
    "# Create the worker threads \n",
    "threads = [Thread(target=worker) for _ in range(NUM_WORKERS)]\n",
    "# Add the websites to the task queue \n",
    "[task_queue.put(item) for item in WEBSITE_LIST]\n",
    "# Start all the workers \n",
    "[thread.start() for thread in threads]\n",
    "# Wait for all the tasks in the queue to be processed \n",
    "task_queue.join()\n",
    "        \n",
    "end_time = time.time()        \n",
    "print(\"Time for ThreadedSquirrel: %ssecs\" % (end_time - start_time))\n",
    "# WARNING:root:Timeout expired for website http://really-cool-available-domain.com \n",
    "# WARNING:root:Timeout expired for website http://another-really-interesting-domain.co \n",
    "# WARNING:root:Website http://bing.com returned status_code=405 \n",
    "# Time for ThreadedSquirrel: 3.110753059387207secs"
   ]
  }
 ],
 "metadata": {
  "kernelspec": {
   "display_name": ".venv",
   "language": "python",
   "name": "python3"
  },
  "language_info": {
   "codemirror_mode": {
    "name": "ipython",
    "version": 3
   },
   "file_extension": ".py",
   "mimetype": "text/x-python",
   "name": "python",
   "nbconvert_exporter": "python",
   "pygments_lexer": "ipython3",
   "version": "3.12.4"
  }
 },
 "nbformat": 4,
 "nbformat_minor": 2
}
