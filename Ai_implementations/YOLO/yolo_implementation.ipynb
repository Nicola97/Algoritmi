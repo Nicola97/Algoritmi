{
 "cells": [
  {
   "cell_type": "markdown",
   "metadata": {},
   "source": [
    "# Implementazione Ultralytics Di Yolo "
   ]
  },
  {
   "cell_type": "code",
   "execution_count": 25,
   "metadata": {},
   "outputs": [],
   "source": [
    "import ultralytics\n",
    "from ultralytics import YOLO\n",
    "import cv2"
   ]
  },
  {
   "cell_type": "code",
   "execution_count": 1,
   "metadata": {},
   "outputs": [
    {
     "name": "stdout",
     "output_type": "stream",
     "text": [
      "WARNING ⚠️ 'source' argument is missing. Using default 'source=C:\\Users\\nicol\\Desktop\\Algoritmi\\venv\\Lib\\site-packages\\ultralytics\\assets'.\n",
      "Ultralytics YOLOv8.2.87 🚀 Python-3.12.4 torch-2.3.1+cpu CPU (Intel Core(TM) Ultra 7 155H)\n",
      "YOLOv8n summary (fused): 168 layers, 3,151,904 parameters, 0 gradients, 8.7 GFLOPs\n",
      "\n",
      "image 1/2 C:\\Users\\nicol\\Desktop\\Algoritmi\\venv\\Lib\\site-packages\\ultralytics\\assets\\bus.jpg: 640x480 4 persons, 1 bus, 1 stop sign, 68.3ms\n",
      "image 2/2 C:\\Users\\nicol\\Desktop\\Algoritmi\\venv\\Lib\\site-packages\\ultralytics\\assets\\zidane.jpg: 384x640 2 persons, 1 tie, 56.6ms\n",
      "Speed: 2.2ms preprocess, 62.4ms inference, 1.0ms postprocess per image at shape (1, 3, 384, 640)\n",
      "Results saved to \u001b[1mruns\\detect\\predict\u001b[0m\n",
      "💡 Learn more at https://docs.ultralytics.com/modes/predict\n"
     ]
    }
   ],
   "source": [
    "!yolo predict model=yolov8n.pt"
   ]
  },
  {
   "cell_type": "code",
   "execution_count": 35,
   "metadata": {},
   "outputs": [
    {
     "name": "stdout",
     "output_type": "stream",
     "text": [
      "\n",
      "image 1/1 c:\\Users\\nicol\\Desktop\\Algoritmi\\Algoritmi\\Ai_implementations\\YOLO\\gatto.jpg: 448x640 1 cat, 57.0ms\n",
      "Speed: 2.0ms preprocess, 57.0ms inference, 1.0ms postprocess per image at shape (1, 3, 448, 640)\n",
      "Immagine salvata come ./gatto_with_bboxes.jpg\n"
     ]
    }
   ],
   "source": [
    "from ultralytics import YOLO\n",
    "\n",
    "# Inizializza il modello\n",
    "model = YOLO(\"./yolov8n.pt\")\n",
    "\n",
    "# Fornisci un percorso assoluto per l'immagine\n",
    "source = \"./gatto.jpg\"\n",
    "\n",
    "# Effettua la predizione\n",
    "results = model.predict(source=source)\n",
    "\n",
    "image= cv2.imread(source)\n",
    "for result in results:\n",
    "    boxes = result.boxes\n",
    "    for box in boxes:\n",
    "        x1, y1, x2, y2 = map(int, box.xyxy[0])\n",
    "        cv2.rectangle(image, (x1,y1), (x2,y2), (0,255,0), 2)\n",
    "        \n",
    "        \n",
    "        label = f'{int(box.cls)} {float(box.conf):.2f}'\n",
    "        cv2.putText(image, label, (x1, y1 - 10), cv2.FONT_HERSHEY_SIMPLEX, 0.9, (36, 255, 12), 2)\n",
    "# Salva l'immagine con bounding box\n",
    "output_path = \"./gatto_with_bboxes.jpg\"\n",
    "cv2.imwrite(output_path, image)\n",
    "\n",
    "print(f\"Immagine salvata come {output_path}\")\n"
   ]
  }
 ],
 "metadata": {
  "kernelspec": {
   "display_name": "venv",
   "language": "python",
   "name": "python3"
  },
  "language_info": {
   "codemirror_mode": {
    "name": "ipython",
    "version": 3
   },
   "file_extension": ".py",
   "mimetype": "text/x-python",
   "name": "python",
   "nbconvert_exporter": "python",
   "pygments_lexer": "ipython3",
   "version": "3.12.4"
  }
 },
 "nbformat": 4,
 "nbformat_minor": 2
}
