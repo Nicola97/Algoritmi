{
 "cells": [
  {
   "cell_type": "markdown",
   "metadata": {},
   "source": [
    "# Lista di Algoritmi di Base da Conoscere\n",
    "\n",
    "## 1. Algoritmi di Ordinamento (Sorting)\n",
    "- **Bubble Sort**: Algoritmo semplice ma inefficiente per ordinare gli elementi confrontando e scambiando coppie adiacenti.\n",
    "- **Selection Sort**: Seleziona il minimo (o massimo) elemento e lo posiziona alla fine dell'elenco ordinato.\n",
    "- **Insertion Sort**: Costruisce la lista ordinata uno alla volta inserendo ogni nuovo elemento nella sua posizione corretta.\n",
    "- **Merge Sort**: Divide e conquista, divide l'elenco in due parti, le ordina e poi le unisce. Ha complessità \\(O(n \\log n)\\).\n",
    "- **Quick Sort**: Utilizza un elemento pivot per dividere l'elenco e ordinarlo ricorsivamente. Molto efficiente con \\(O(n \\log n)\\) di complessità nel caso medio.\n",
    "-  **Heap Sort**\n",
    "- **Counting Sort**\n",
    "- **Bucket Sort**\n",
    "- **Radix Sort**\n",
    "\n",
    "\n"
   ]
  },
  {
   "cell_type": "code",
   "execution_count": 2,
   "metadata": {},
   "outputs": [
    {
     "name": "stdout",
     "output_type": "stream",
     "text": [
      "[10, 20, 23, 30, 45, 54, 63, 67, 78, 90, 203]\n"
     ]
    }
   ],
   "source": [
    "\"\"\"Bubble Sort \"\"\"\n",
    "numeri = [10,20,30,78,203,54,90,23,45,63,67]\n",
    "lunghezza=len(numeri)\n",
    "\n",
    "for i in range(lunghezza):\n",
    "    for j in range(0,lunghezza-i-1):\n",
    "        if numeri[j]>numeri[j+1]:\n",
    "            numeri[j], numeri[j+1] = numeri[j+1], numeri[j]\n",
    "\n",
    "print(numeri)"
   ]
  },
  {
   "cell_type": "code",
   "execution_count": 52,
   "metadata": {},
   "outputs": [
    {
     "name": "stdout",
     "output_type": "stream",
     "text": [
      "[10, 20, 23, 30, 45, 54, 63, 67, 78, 90, 203]\n"
     ]
    }
   ],
   "source": [
    "\"\"\" Selection Sort\"\"\"\n",
    "numeri = [10,20,30,78,203,54,90,23,45,63,67]\n",
    "\n",
    "for i in range(len(numeri)):\n",
    "    min_indx= i\n",
    "    for j in range(i+1,len(numeri)):\n",
    "        if numeri[min_indx] > numeri[j]:\n",
    "            #print(numeri[i],numeri[j])\n",
    "            min_indx=j\n",
    "    numeri[i], numeri[min_indx] = numeri[min_indx], numeri[i]\n",
    "        \n",
    "print(numeri)\n"
   ]
  },
  {
   "cell_type": "markdown",
   "metadata": {},
   "source": [
    "## Algoritmi su Grafi\n",
    "- Minimum Spanning Tree (Prim, Kruskal)\n",
    "- Cammini Minimi (Bellman-Ford, Dijkstra, Floyd-Warshall). "
   ]
  },
  {
   "cell_type": "markdown",
   "metadata": {},
   "source": [
    "## 2. Algoritmi di Ricerca (Searching)\n",
    "- **Linear Search**: Ricerca sequenziale, verifica ogni elemento della lista fino a trovare l'elemento desiderato.\n",
    "- **Binary Search**: Ricerca su una lista ordinata dividendo ripetutamente lo spazio di ricerca a metà, con complessità \\(O(\\log n)\\).\n",
    "\n",
    "## 3. Algoritmi di Ricorsione\n",
    "- **Factorial Calculation**: Calcola il fattoriale di un numero in modo ricorsivo.\n",
    "- **Fibonacci Sequence**: Calcola la sequenza di Fibonacci in modo ricorsivo o iterativo.\n",
    "- **Tower of Hanoi**: Problema classico che illustra l'uso della ricorsione per spostare dischi tra torri.\n",
    "\n",
    "## 4. Algoritmi Greedy\n",
    "- **Kruskal's Algorithm**: Trova l'albero di copertura minimo (MST) in un grafo usando un approccio greedy.\n",
    "- **Prim's Algorithm**: Un altro algoritmo per trovare l'MST, che cresce una singola connessione alla volta.\n",
    "- **Dijkstra's Algorithm**: Trova il percorso più breve da un nodo a tutti gli altri in un grafo con pesi non negativi.\n",
    "\n",
    "## 5. Algoritmi su Grafi\n",
    "- **Breadth-First Search (BFS)**: Esplora un grafo livello per livello, utile per trovare il percorso più breve in un grafo non pesato.\n",
    "- **Depth-First Search (DFS)**: Esplora un grafo il più profondamente possibile lungo ciascun ramo prima di retrocedere.\n",
    "- **Topological Sort**: Ordina i nodi di un grafo diretto aciclico (DAG) in modo tale che per ogni arco diretto \\(uv\\), \\(u\\) precede \\(v\\).\n",
    "\n",
    "## 6. Algoritmi di Programmazione Dinamica\n",
    "- **Knapsack Problem**: Massimizza il valore totale degli oggetti che possono essere inseriti in uno zaino di capacità limitata.\n",
    "- **Longest Common Subsequence (LCS)**: Trova la sottosequenza più lunga che è comune a due stringhe.\n",
    "- **Matrix Chain Multiplication**: Trova l'ordine ottimale per moltiplicare una catena di matrici, minimizzando i costi computazionali.\n",
    "\n",
    "## 7. Algoritmi di Compressione\n",
    "- **Huffman Coding**: Algoritmo di compressione che assegna codici binari più corti agli elementi più frequenti e codici più lunghi agli elementi meno frequenti.\n",
    "\n",
    "## 8. Algoritmi di Base per Strutture Dati\n",
    "- **Stack (Pila)**: LIFO (Last In, First Out), operazioni push e pop.\n",
    "- **Queue (Coda)**: FIFO (First In, First Out), operazioni enqueue e dequeue.\n",
    "- **Linked List (Lista Collegata)**: Lista di nodi collegati dove ogni nodo contiene un puntatore al nodo successivo.\n",
    "- **Hash Table (Tabella Hash)**: Struttura dati che implementa un dizionario associando chiavi a valori.\n",
    "- **Binary Search Tree (BST)**: Albero binario in cui ogni nodo ha un massimo di due figli e segue la proprietà di ordinamento binario.\n",
    "\n",
    "## 9. Algoritmi di Dividi e Conquista\n",
    "- **Merge Sort**: Già menzionato, utilizza un approccio dividi e conquista.\n",
    "- **Quick Sort**: Già menzionato, utilizza un approccio dividi e conquista.\n",
    "\n",
    "## 10. Algoritmi per la Ricerca su Testo\n",
    "- **Knuth-Morris-Pratt (KMP)**: Algoritmo efficiente per cercare una sottostringa in una stringa.\n",
    "- **Rabin-Karp**: Utilizza una funzione di hash per cercare una sottostringa in una stringa."
   ]
  },
  {
   "cell_type": "code",
   "execution_count": null,
   "metadata": {},
   "outputs": [],
   "source": []
  }
 ],
 "metadata": {
  "kernelspec": {
   "display_name": "venv",
   "language": "python",
   "name": "python3"
  },
  "language_info": {
   "codemirror_mode": {
    "name": "ipython",
    "version": 3
   },
   "file_extension": ".py",
   "mimetype": "text/x-python",
   "name": "python",
   "nbconvert_exporter": "python",
   "pygments_lexer": "ipython3",
   "version": "3.12.4"
  }
 },
 "nbformat": 4,
 "nbformat_minor": 2
}
